{
 "cells": [
  {
   "cell_type": "code",
   "execution_count": null,
   "id": "ea53ed63",
   "metadata": {},
   "outputs": [],
   "source": [
    "# Importing necessary libraries\n",
    "import pandas as pd\n",
    "import numpy as np\n",
    "import matplotlib.pyplot as plt\n",
    "import seaborn as sns\n",
    "\n",
    "# Setting visual style for plots\n",
    "sns.set(style=\"whitegrid\")\n"
   ]
  },
  {
   "cell_type": "code",
   "execution_count": null,
   "id": "9329d851",
   "metadata": {},
   "outputs": [],
   "source": [
    "# Load the dataset\n",
    "df = pd.read_csv(\"Cars.csv\")\n",
    "df.head()\n"
   ]
  },
  {
   "cell_type": "code",
   "execution_count": null,
   "id": "75927130",
   "metadata": {},
   "outputs": [],
   "source": [
    "# Display basic info and data types\n",
    "df.info()\n"
   ]
  },
  {
   "cell_type": "code",
   "execution_count": null,
   "id": "635a1b80",
   "metadata": {},
   "outputs": [],
   "source": [
    "# Check for null values in each column\n",
    "df.isnull().sum()\n"
   ]
  },
  {
   "cell_type": "code",
   "execution_count": null,
   "id": "2a554524",
   "metadata": {},
   "outputs": [],
   "source": [
    "# Generate descriptive statistics\n",
    "df.describe()\n"
   ]
  },
  {
   "cell_type": "code",
   "execution_count": null,
   "id": "51ff0bcd",
   "metadata": {},
   "outputs": [],
   "source": [
    "# Histogram for mpg distribution\n",
    "plt.figure(figsize=(10,6))\n",
    "sns.histplot(df['mpg'], kde=True, bins=20, color='blue')\n",
    "plt.title('Distribution of MPG')\n",
    "plt.xlabel('Miles Per Gallon')\n",
    "plt.ylabel('Frequency')\n",
    "plt.show()\n"
   ]
  },
  {
   "cell_type": "code",
   "execution_count": null,
   "id": "802d4806",
   "metadata": {},
   "outputs": [],
   "source": [
    "# Count of cars by origin\n",
    "plt.figure(figsize=(8,5))\n",
    "sns.countplot(x='origin', data=df, palette='Set2')\n",
    "plt.title('Number of Cars by Origin')\n",
    "plt.xlabel('Origin')\n",
    "plt.ylabel('Count')\n",
    "plt.show()\n"
   ]
  },
  {
   "cell_type": "code",
   "execution_count": null,
   "id": "1c1f8b8f",
   "metadata": {},
   "outputs": [],
   "source": [
    "# Heatmap to show correlation between numerical features\n",
    "plt.figure(figsize=(10,8))\n",
    "corr = df.corr(numeric_only=True)\n",
    "sns.heatmap(corr, annot=True, cmap='coolwarm', fmt=\".2f\")\n",
    "plt.title('Correlation Heatmap')\n",
    "plt.show()\n"
   ]
  },
  {
   "cell_type": "code",
   "execution_count": null,
   "id": "5b9592dd",
   "metadata": {},
   "outputs": [],
   "source": [
    "# Scatter plot: mpg vs weight\n",
    "plt.figure(figsize=(10,6))\n",
    "sns.scatterplot(x='weight', y='mpg', data=df, color='purple')\n",
    "plt.title('MPG vs Weight')\n",
    "plt.xlabel('Weight')\n",
    "plt.ylabel('Miles Per Gallon')\n",
    "plt.show()\n"
   ]
  },
  {
   "cell_type": "code",
   "execution_count": null,
   "id": "3b098b61",
   "metadata": {},
   "outputs": [],
   "source": [
    "# Boxplot for mpg by number of cylinders\n",
    "plt.figure(figsize=(8,5))\n",
    "sns.boxplot(x='cylinders', y='mpg', data=df, palette='Set3')\n",
    "plt.title('MPG by Number of Cylinders')\n",
    "plt.xlabel('Cylinders')\n",
    "plt.ylabel('Miles Per Gallon')\n",
    "plt.show()\n"
   ]
  },
  {
   "cell_type": "code",
   "execution_count": null,
   "id": "71bba5d6",
   "metadata": {},
   "outputs": [],
   "source": [
    "# Line plot: average mpg by model year\n",
    "plt.figure(figsize=(10,6))\n",
    "avg_mpg_per_year = df.groupby('model_year')['mpg'].mean()\n",
    "avg_mpg_per_year.plot(marker='o', color='green')\n",
    "plt.title('Average MPG per Model Year')\n",
    "plt.xlabel('Model Year')\n",
    "plt.ylabel('Average MPG')\n",
    "plt.grid(True)\n",
    "plt.show()\n"
   ]
  }
 ],
 "metadata": {
  "language_info": {
   "name": "python"
  }
 },
 "nbformat": 4,
 "nbformat_minor": 5
}
